{
 "cells": [
  {
   "cell_type": "code",
   "execution_count": 1,
   "metadata": {},
   "outputs": [],
   "source": [
    "from mbdvv import app, get_solids\n",
    "from pymbd import MBDCalc, from_volumes, ang, get_kgrid, vdw_params\n",
    "\n",
    "import numpy as np\n",
    "import pandas as pd\n",
    "import os\n",
    "from itertools import product\n",
    "from functools import partial\n",
    "from pkg_resources import resource_stream"
   ]
  },
  {
   "cell_type": "code",
   "execution_count": 2,
   "metadata": {},
   "outputs": [],
   "source": [
    "solid_data = get_solids(app.ctx)\n",
    "solid_params = pd.read_csv(resource_stream('mbdvv', 'data/solids.csv')).set_index('label')"
   ]
  },
  {
   "cell_type": "code",
   "execution_count": 3,
   "metadata": {},
   "outputs": [],
   "source": [
    "def get_last(obj):\n",
    "    if not isinstance(obj, list):\n",
    "        return obj\n",
    "    assert len(obj) == 2\n",
    "    return obj[-1]\n",
    "\n",
    "def listify(obj):\n",
    "    if isinstance(obj, list):\n",
    "        return obj\n",
    "    return [obj]"
   ]
  },
  {
   "cell_type": "code",
   "execution_count": 4,
   "metadata": {},
   "outputs": [],
   "source": [
    "class NegativeEigs(Exception):\n",
    "    pass\n",
    "\n",
    "\n",
    "def mbd_rsscs(mbd_calc, coords, alpha_0, C6, R_vdw, beta, lattice=None, k_grid=None):\n",
    "    def _array(obj, *args, **kwargs):\n",
    "        if obj is not None:\n",
    "            return np.array(obj, *args, **kwargs)\n",
    "\n",
    "    coords = _array(coords, dtype=float, order='F')\n",
    "    alpha_0 = _array(alpha_0, dtype=float)\n",
    "    C6 = _array(C6, dtype=float)\n",
    "    R_vdw = _array(R_vdw, dtype=float)\n",
    "    freq, freq_w = mbd_calc.omega_grid\n",
    "    omega = 4./3*C6/alpha_0**2\n",
    "    alpha_dyn = alpha_0/(1+(freq[:, None]/omega)**2)\n",
    "    alpha_dyn_rsscs = np.empty_like(alpha_dyn)\n",
    "    for a, a_scr in zip(alpha_dyn, alpha_dyn_rsscs):\n",
    "        sigma = (np.sqrt(2./np.pi)*a/3)**(1./3)\n",
    "        a_nlc = np.linalg.inv(\n",
    "            np.diag(np.repeat(1./a, 3)) + mbd_calc.dipole_matrix(\n",
    "                coords, 'fermi,dip,gg', sigma=sigma, R_vdw=R_vdw, beta=beta, lattice=lattice,\n",
    "            )\n",
    "        )\n",
    "        a_scr[:] = sum(a_nlc[i::3, i::3].sum(1) for i in range(3))/3\n",
    "    C6_rsscs = 3./np.pi*np.sum(freq_w[:, None]*alpha_dyn_rsscs**2, 0)\n",
    "    R_vdw_rsscs = R_vdw*(alpha_dyn_rsscs[0, :]/alpha_0)**(1./3)\n",
    "    omega_rsscs = 4./3*C6_rsscs/alpha_dyn_rsscs[0, :]**2\n",
    "    pre = np.repeat(omega_rsscs*np.sqrt(alpha_dyn_rsscs[0, :]), 3)\n",
    "    if lattice is None:\n",
    "        k_grid = [None]\n",
    "    else:\n",
    "        assert k_grid is not None\n",
    "        k_grid = get_kgrid(lattice, k_grid)\n",
    "    ene = 0\n",
    "    for k_point in k_grid:\n",
    "        eigs = np.linalg.eigvalsh(\n",
    "            np.diag(np.repeat(omega_rsscs**2, 3)) +\n",
    "            np.outer(pre, pre)*mbd_calc.dipole_matrix(\n",
    "                coords, 'fermi,dip', R_vdw=R_vdw_rsscs, beta=beta, lattice=lattice, k_point=k_point\n",
    "            )\n",
    "        )\n",
    "        if np.any(eigs < 0):\n",
    "            raise NegativeEigs(eigs, k_point)\n",
    "        ene += np.sum(np.sqrt(eigs))/2-3*np.sum(omega_rsscs)/2\n",
    "    ene /= len(k_grid)\n",
    "    return ene"
   ]
  },
  {
   "cell_type": "code",
   "execution_count": 5,
   "metadata": {
    "scrolled": false
   },
   "outputs": [
    {
     "name": "stdout",
     "output_type": "stream",
     "text": [
      "Ag 1.0 [-0.0075608  -0.0075608   0.23444993]\n",
      "Al 1.0 [-0.00833541 -0.00833541  0.38088662]\n",
      "Au 1.0 -0.017786694157280677\n",
      "Ca 1.0 [-0.00967489 -0.00967489  0.1101537 ]\n",
      "Cu 1.0 [-0.00971144 -0.00971144  0.36980835]\n",
      "Ir 1.0 [-0.00580345 -0.00580345  0.53573045]\n",
      "Ni 1.0 [-0.01810629 -0.01810629  0.55214333]\n",
      "Pb 1.0 -0.0172857723441398\n",
      "Pd 1.0 -0.012230739064077248\n",
      "Pt 1.0 [-0.00339218 -0.00339218  0.57293716]\n",
      "CPU times: user 1.12 s, sys: 77.3 ms, total: 1.2 s\n",
      "Wall time: 2.08 s\n"
     ]
    }
   ],
   "source": [
    "%%time\n",
    "with MBDCalc() as mbd_calc:\n",
    "    for (label, scale), data in solid_data['solids'].loc[(slice(None), 1.),].iloc[:10].itertuples():\n",
    "        coords = data['coords']['value'].T\n",
    "        species = listify(data['elems']['atom'])\n",
    "        lattice = data['lattice_vector']['value']\n",
    "        pbe_ene = data['energy'][0]['value'][0]\n",
    "        volumes = get_last(data['volumes'])\n",
    "        alpha_vv = get_last(data['vv_pols'])\n",
    "        free_atoms = get_last(data['free_atoms'])\n",
    "        species_idx = free_atoms['species']-1\n",
    "        volumes_free = free_atoms['volumes'][species_idx]\n",
    "        alpha_vv_free = free_atoms['vv_pols'][:, species_idx]\n",
    "        freq_w = get_last(data['omega_grid_w'])\n",
    "        \n",
    "        alpha_0, C6, R_vdw = from_volumes(species, volumes/volumes_free)\n",
    "        alpha_0_free = np.array([vdw_params.get(sp)['alpha_0'] for sp in species])\n",
    "        C6_vv = 3/np.pi*np.sum(freq_w[:, None]*alpha_vv**2, 0)\n",
    "        C6_vv_free = 3/np.pi*np.sum(freq_w[:, None]*alpha_vv_free**2, 0)\n",
    "        R_vdw_1 = 2.5*alpha_0**(1/7)\n",
    "        R_vdw_vv = 2.5*alpha_vv[0]**(1/7)\n",
    "        k_grid = np.repeat(6, 3)\n",
    "        try:\n",
    "            ene = mbd_rsscs(\n",
    "                mbd_calc,\n",
    "                coords,\n",
    "                alpha_0, C6, R_vdw,\n",
    "                0.83,\n",
    "                lattice=lattice,\n",
    "                k_grid=k_grid\n",
    "            )\n",
    "        except NegativeEigs as e:\n",
    "            ene = e.args[0]\n",
    "        except np.linalg.LinAlgError as e:\n",
    "            ene = 'did not converge'\n",
    "        print(label, scale, ene)\n",
    "        # print(label, scale, alpha_0, alpha_vv[0])\n",
    "        # print(label, scale, vdw_params.get(label)['alpha_0'], alpha_vv_free[0])\n",
    "        # print(label, scale, alpha_0, alpha_vv[0]*alpha_0_free/alpha_vv_free[0])\n",
    "        # print(label, scale, R_vdw, R_vdw_1)"
   ]
  }
 ],
 "metadata": {
  "kernelspec": {
   "display_name": "Python 3",
   "language": "python",
   "name": "python3"
  },
  "language_info": {
   "codemirror_mode": {
    "name": "ipython",
    "version": 3
   },
   "file_extension": ".py",
   "mimetype": "text/x-python",
   "name": "python",
   "nbconvert_exporter": "python",
   "pygments_lexer": "ipython3",
   "version": "3.6.4"
  }
 },
 "nbformat": 4,
 "nbformat_minor": 2
}
