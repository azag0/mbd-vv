{
 "cells": [
  {
   "cell_type": "code",
   "execution_count": 1,
   "metadata": {},
   "outputs": [],
   "source": [
    "import sys\n",
    "sys.path.append('..')"
   ]
  },
  {
   "cell_type": "code",
   "execution_count": 2,
   "metadata": {},
   "outputs": [],
   "source": [
    "import pandas as pd\n",
    "\n",
    "from calc import calc, get_solids"
   ]
  },
  {
   "cell_type": "code",
   "execution_count": 3,
   "metadata": {},
   "outputs": [],
   "source": [
    "solid_data = get_solids(calc.ctx)"
   ]
  },
  {
   "cell_type": "code",
   "execution_count": 4,
   "metadata": {},
   "outputs": [
    {
     "data": {
      "text/plain": [
       "{'atoms':                                                   ene\n",
       " Z  atom full_conf             conf                   \n",
       " 34 Se   [Ar]4s2,3d10,4p4      -1         -2429.976615\n",
       "                               0          -2429.976615\n",
       "                               1          -2429.976615\n",
       " 45 Rh   [Kr]5s1,4d8           -2,-1,0    -4784.078240\n",
       "                               -2,-1,1    -4784.078243\n",
       "                               -2,-1,2    -4784.048059\n",
       "                               -2,0,1              NaN\n",
       "                               -2,0,2              NaN\n",
       "                               -2,1,2     -4784.048059\n",
       "                               -1,0,1     -4784.048059\n",
       "                               -1,0,2              NaN\n",
       "                               -1,1,2     -4784.078244\n",
       "                               0,1,2               NaN\n",
       " 41 Nb   [Kr]5s1,4d4           -2,-1,0,1  -3819.668446\n",
       "                               -2,-1,0,2           NaN\n",
       "                               -2,-1,1,2  -3819.668446\n",
       "                               -2,0,1,2   -3819.668446\n",
       "                               -1,0,1,2   -3819.668446\n",
       " 78 Pt   [Xe]6s1,4f14,5d9      -2,-1,0,1 -18411.978441\n",
       "                               -2,-1,0,2           NaN\n",
       "                               -2,-1,1,2 -18411.978421\n",
       "                               -2,0,1,2            NaN\n",
       "                               -1,0,1,2  -18411.978441\n",
       " 77 Ir   [Xe]6s2,4f14,5d7      -2,-1     -17826.162780\n",
       "                               -2,0                NaN\n",
       "                               -2,1      -17826.156708\n",
       "                               -2,2      -17826.134938\n",
       "                               -1,0      -17826.134938\n",
       "                               -1,1      -17826.162780\n",
       "                               -1,2                NaN\n",
       " ...                                               ...\n",
       " 14 Si   [Ne]3s2,3p2           -1,1        -289.870360\n",
       "                               0,1         -289.870360\n",
       " 47 Ag   [Kr]5s1,4d10          -          -5315.925104\n",
       " 17 Cl   [Ne]3s2,3p5           -1,0        -461.448550\n",
       "                               -1,1        -461.448550\n",
       "                               0,1         -461.448550\n",
       " 40 Zr   [Kr]5s2,4d2           -2,-1      -3598.514857\n",
       "                               -2,0       -3598.514351\n",
       "                               -2,1                NaN\n",
       "                               -2,2                NaN\n",
       "                               -1,0                NaN\n",
       "                               -1,1                NaN\n",
       "                               -1,2                NaN\n",
       "                               0,1        -3598.517135\n",
       "                               0,2        -3598.514348\n",
       "                               1,2        -3598.514351\n",
       " 82 Pb   [Xe]6s2,4f14,5d10,6p2 -1,0      -20879.884542\n",
       "                               -1,1      -20879.884542\n",
       "                               0,1       -20879.884542\n",
       " 74 W    [Xe]6s2,4f14,5d4      -2,-1,0,1 -16141.422677\n",
       "                               -2,-1,0,2 -16141.427974\n",
       "                               -2,-1,1,2 -16141.427973\n",
       "                               -2,0,1,2  -16141.427972\n",
       "                               -1,0,1,2  -16141.427973\n",
       " 52 Te   [Kr]5s2,4d10,5p4      -1         -6794.311939\n",
       "                               0          -6794.311939\n",
       "                               1          -6794.311939\n",
       " 31 Ga   [Ar]4s2,3d10,4p1      -1         -1943.937226\n",
       "                               0          -1943.937226\n",
       "                               1          -1943.937226\n",
       " \n",
       " [164 rows x 1 columns], 'enes': Empty DataFrame\n",
       " Columns: [label, ene]\n",
       " Index: [], 'vols': Empty DataFrame\n",
       " Columns: [label, i, vol]\n",
       " Index: []}"
      ]
     },
     "execution_count": 4,
     "metadata": {},
     "output_type": "execute_result"
    }
   ],
   "source": [
    "solid_data"
   ]
  },
  {
   "cell_type": "code",
   "execution_count": 5,
   "metadata": {},
   "outputs": [],
   "source": []
  }
 ],
 "metadata": {
  "kernelspec": {
   "display_name": "Python 3",
   "language": "python",
   "name": "python3"
  },
  "language_info": {
   "codemirror_mode": {
    "name": "ipython",
    "version": 3
   },
   "file_extension": ".py",
   "mimetype": "text/x-python",
   "name": "python",
   "nbconvert_exporter": "python",
   "pygments_lexer": "ipython3",
   "version": "3.6.4"
  }
 },
 "nbformat": 4,
 "nbformat_minor": 2
}
