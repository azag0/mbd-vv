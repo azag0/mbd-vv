{
 "cells": [
  {
   "cell_type": "code",
   "execution_count": 1,
   "metadata": {},
   "outputs": [],
   "source": [
    "import pandas as pd\n",
    "import os\n",
    "\n",
    "from mbdvv import app, get_solids"
   ]
  },
  {
   "cell_type": "code",
   "execution_count": 2,
   "metadata": {},
   "outputs": [],
   "source": [
    "solid_data = get_solids(app.ctx)"
   ]
  },
  {
   "cell_type": "code",
   "execution_count": 3,
   "metadata": {},
   "outputs": [
    {
     "data": {
      "text/html": [
       "<div>\n",
       "<style scoped>\n",
       "    .dataframe tbody tr th:only-of-type {\n",
       "        vertical-align: middle;\n",
       "    }\n",
       "\n",
       "    .dataframe tbody tr th {\n",
       "        vertical-align: top;\n",
       "    }\n",
       "\n",
       "    .dataframe thead th {\n",
       "        text-align: right;\n",
       "    }\n",
       "</style>\n",
       "<table border=\"1\" class=\"dataframe\">\n",
       "  <thead>\n",
       "    <tr style=\"text-align: right;\">\n",
       "      <th></th>\n",
       "      <th></th>\n",
       "      <th></th>\n",
       "      <th></th>\n",
       "      <th>ene</th>\n",
       "    </tr>\n",
       "    <tr>\n",
       "      <th>Z</th>\n",
       "      <th>atom</th>\n",
       "      <th>full_conf</th>\n",
       "      <th>conf</th>\n",
       "      <th></th>\n",
       "    </tr>\n",
       "  </thead>\n",
       "  <tbody>\n",
       "    <tr>\n",
       "      <th>46</th>\n",
       "      <th>Pd</th>\n",
       "      <th>[Kr]4d10</th>\n",
       "      <th>-</th>\n",
       "      <td>-5045.785878</td>\n",
       "    </tr>\n",
       "    <tr>\n",
       "      <th rowspan=\"4\" valign=\"top\">22</th>\n",
       "      <th rowspan=\"4\" valign=\"top\">Ti</th>\n",
       "      <th rowspan=\"4\" valign=\"top\">[Ar]4s2,3d2</th>\n",
       "      <th>-2,-1</th>\n",
       "      <td>NaN</td>\n",
       "    </tr>\n",
       "    <tr>\n",
       "      <th>-2,0</th>\n",
       "      <td>-853.611395</td>\n",
       "    </tr>\n",
       "    <tr>\n",
       "      <th>-2,1</th>\n",
       "      <td>NaN</td>\n",
       "    </tr>\n",
       "    <tr>\n",
       "      <th>-2,2</th>\n",
       "      <td>NaN</td>\n",
       "    </tr>\n",
       "  </tbody>\n",
       "</table>\n",
       "</div>"
      ],
      "text/plain": [
       "                                   ene\n",
       "Z  atom full_conf   conf              \n",
       "46 Pd   [Kr]4d10    -     -5045.785878\n",
       "22 Ti   [Ar]4s2,3d2 -2,-1          NaN\n",
       "                    -2,0   -853.611395\n",
       "                    -2,1           NaN\n",
       "                    -2,2           NaN"
      ]
     },
     "execution_count": 3,
     "metadata": {},
     "output_type": "execute_result"
    }
   ],
   "source": [
    "solid_data['atoms'].head()"
   ]
  },
  {
   "cell_type": "code",
   "execution_count": 4,
   "metadata": {},
   "outputs": [
    {
     "data": {
      "text/html": [
       "<div>\n",
       "<style scoped>\n",
       "    .dataframe tbody tr th:only-of-type {\n",
       "        vertical-align: middle;\n",
       "    }\n",
       "\n",
       "    .dataframe tbody tr th {\n",
       "        vertical-align: top;\n",
       "    }\n",
       "\n",
       "    .dataframe thead th {\n",
       "        text-align: right;\n",
       "    }\n",
       "</style>\n",
       "<table border=\"1\" class=\"dataframe\">\n",
       "  <thead>\n",
       "    <tr style=\"text-align: right;\">\n",
       "      <th></th>\n",
       "      <th>label</th>\n",
       "      <th>scale</th>\n",
       "      <th>data</th>\n",
       "    </tr>\n",
       "  </thead>\n",
       "  <tbody>\n",
       "    <tr>\n",
       "      <th>0</th>\n",
       "      <td>crystals/Ag/0.97</td>\n",
       "      <td>0.97</td>\n",
       "      <td>{'coords': {'unit': 'a.u.', 'value': [[0.], [0...</td>\n",
       "    </tr>\n",
       "    <tr>\n",
       "      <th>1</th>\n",
       "      <td>crystals/Ag/0.98</td>\n",
       "      <td>0.98</td>\n",
       "      <td>{'coords': {'unit': 'a.u.', 'value': [[0.], [0...</td>\n",
       "    </tr>\n",
       "    <tr>\n",
       "      <th>2</th>\n",
       "      <td>crystals/Ag/0.99</td>\n",
       "      <td>0.99</td>\n",
       "      <td>{'coords': {'unit': 'a.u.', 'value': [[0.], [0...</td>\n",
       "    </tr>\n",
       "    <tr>\n",
       "      <th>3</th>\n",
       "      <td>crystals/Ag/1.0</td>\n",
       "      <td>1.00</td>\n",
       "      <td>{'coords': {'unit': 'a.u.', 'value': [[0.], [0...</td>\n",
       "    </tr>\n",
       "    <tr>\n",
       "      <th>4</th>\n",
       "      <td>crystals/Ag/1.01</td>\n",
       "      <td>1.01</td>\n",
       "      <td>{'coords': {'unit': 'a.u.', 'value': [[0.], [0...</td>\n",
       "    </tr>\n",
       "  </tbody>\n",
       "</table>\n",
       "</div>"
      ],
      "text/plain": [
       "              label  scale                                               data\n",
       "0  crystals/Ag/0.97   0.97  {'coords': {'unit': 'a.u.', 'value': [[0.], [0...\n",
       "1  crystals/Ag/0.98   0.98  {'coords': {'unit': 'a.u.', 'value': [[0.], [0...\n",
       "2  crystals/Ag/0.99   0.99  {'coords': {'unit': 'a.u.', 'value': [[0.], [0...\n",
       "3   crystals/Ag/1.0   1.00  {'coords': {'unit': 'a.u.', 'value': [[0.], [0...\n",
       "4  crystals/Ag/1.01   1.01  {'coords': {'unit': 'a.u.', 'value': [[0.], [0..."
      ]
     },
     "execution_count": 4,
     "metadata": {},
     "output_type": "execute_result"
    }
   ],
   "source": [
    "solid_data['solids'].head()"
   ]
  },
  {
   "cell_type": "code",
   "execution_count": 5,
   "metadata": {},
   "outputs": [],
   "source": []
  }
 ],
 "metadata": {
  "kernelspec": {
   "display_name": "Python 3",
   "language": "python",
   "name": "python3"
  },
  "language_info": {
   "codemirror_mode": {
    "name": "ipython",
    "version": 3
   },
   "file_extension": ".py",
   "mimetype": "text/x-python",
   "name": "python",
   "nbconvert_exporter": "python",
   "pygments_lexer": "ipython3",
   "version": "3.6.4"
  }
 },
 "nbformat": 4,
 "nbformat_minor": 2
}
