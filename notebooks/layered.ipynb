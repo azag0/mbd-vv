{
 "cells": [
  {
   "cell_type": "code",
   "execution_count": null,
   "metadata": {},
   "outputs": [],
   "source": [
    "%load_ext autoreload\n",
    "%autoreload 2"
   ]
  },
  {
   "cell_type": "code",
   "execution_count": null,
   "metadata": {},
   "outputs": [],
   "source": [
    "import warnings\n",
    "from collections import defaultdict\n",
    "from functools import partial\n",
    "\n",
    "import matplotlib as mpl\n",
    "import matplotlib.pyplot as plt\n",
    "import numpy as np\n",
    "import pandas as pd\n",
    "import pymbd\n",
    "from pymbd import MBDCalc\n",
    "import seaborn as sns\n",
    "import xarray as xr\n",
    "from pkg_resources import resource_filename, resource_stream\n",
    "from scipy.interpolate import interp1d\n",
    "from scipy.optimize import minimize\n",
    "from tqdm.auto import tqdm\n",
    "\n",
    "from mbdvv.app import app\n",
    "from mbdvv.layered import get_layered_dataset, mbd_from_row, binding_per_area\n",
    "from mbdvv.report import mbd_energy, vdw_params, plot_ion_alpha\n",
    "from mbdvv.functasks import calc_vvpol\n",
    "from mbdvv.physics import alpha_kin, ion_pot, vv_pol, lg_cutoff2, logistic, scanintp, eV\n",
    "\n",
    "pd.options.display.max_rows = 999 \n",
    "tqdm.pandas()\n",
    "\n",
    "sns.set(\n",
    "    style='ticks',\n",
    "    context='notebook', rc={\n",
    "        'axes.formatter.useoffset': False,\n",
    "    },\n",
    ")\n",
    "mpl.rc('font', family='serif', serif='STIXGeneral')\n",
    "mpl.rc('mathtext', fontset='stix')\n",
    "warnings.filterwarnings(\n",
    "    'ignore',\n",
    "    'Sorting because non-concatenation axis is not aligned',\n",
    "        FutureWarning\n",
    ")\n",
    "\n",
    "pymbd.stop_interactive()\n",
    "mbd = pymbd.interactive()"
   ]
  },
  {
   "cell_type": "code",
   "execution_count": null,
   "metadata": {},
   "outputs": [],
   "source": [
    "with app.context():\n",
    "    layered_results = app.get('layered')"
   ]
  },
  {
   "cell_type": "code",
   "execution_count": null,
   "metadata": {},
   "outputs": [],
   "source": [
    "layered_df, grids_df, freq_df = get_layered_dataset(layered_results)"
   ]
  },
  {
   "cell_type": "code",
   "execution_count": null,
   "metadata": {},
   "outputs": [],
   "source": [
    "for lvl in layered_df.index.levels:\n",
    "    print(lvl)"
   ]
  },
  {
   "cell_type": "code",
   "execution_count": null,
   "metadata": {},
   "outputs": [],
   "source": [
    "layered_df.loc(0)[:, :, :, 6].iloc[0]"
   ]
  },
  {
   "cell_type": "code",
   "execution_count": null,
   "metadata": {},
   "outputs": [],
   "source": [
    "(\n",
    "    layered_df[['energy', 'energy_vdw']].to_xarray()\n",
    "    .sel(xc='pbe', kz=6)\n",
    "    .pipe(lambda ds: xr.concat(\n",
    "        [ds['energy']-ds['energy_vdw'], ds['energy']],\n",
    "        pd.Index(['PBE', 'PBE+MBD'], name='method')\n",
    "    ))\n",
    "    .pipe(lambda x: x-x.sel(shift=40))\n",
    "    .to_dataframe('energy')\n",
    "    .reset_index()\n",
    "    .pipe(\n",
    "        lambda x: sns.relplot(\n",
    "            data=x,\n",
    "            kind='line',\n",
    "            x='shift',\n",
    "            y='energy',\n",
    "            row='method',\n",
    "            hue='label',\n",
    "            height=3,\n",
    "            aspect=1.5,\n",
    "        )\n",
    "        .set(xlim=(-.4, .7), ylim=(None, 0.002))\n",
    "    )\n",
    ")"
   ]
  },
  {
   "cell_type": "code",
   "execution_count": null,
   "metadata": {},
   "outputs": [],
   "source": [
    "layered_meta_df = (\n",
    "    layered_df['lattice_vector']\n",
    "    .loc(0)[:, 0, 'pbe', 6]\n",
    "    .pipe(lambda x: x*0.5291)\n",
    "    .apply(lambda x: np.linalg.det(x)/x[2, 2])\n",
    "    .reset_index(['xc', 'kz', 'shift'], drop=True)\n",
    "    .to_frame('area')\n",
    "    .join(\n",
    "        pd.read_csv(\n",
    "            resource_stream('mbdvv', 'data/layered.csv'),\n",
    "            index_col='label scale'.split()\n",
    "        )\n",
    "        .xs(1, level='scale')[['c', 'energy']]\n",
    "        .rename(columns={'c': 'c_ref', 'energy': 'energy_ref'})\n",
    "    )\n",
    "    .assign(n_layer=lambda x: np.where((x['c_ref'] > 10) | (x['area'] < 6), 2, 1))\n",
    ")\n",
    "layered_meta_df.iloc[:1]"
   ]
  },
  {
   "cell_type": "code",
   "execution_count": null,
   "metadata": {},
   "outputs": [],
   "source": [
    "(\n",
    "    layered_df['energy'].to_xarray()\n",
    "    .sel(xc='pbe', kz=6)\n",
    "    .pipe(lambda x: x-x.sel(shift=40))\n",
    "    .sel(shift=slice(None, 4))\n",
    "    .to_dataframe()\n",
    "    .reset_index()\n",
    "    .groupby('label')\n",
    "    .apply(\n",
    "        lambda x: pd.Series(minimize(\n",
    "            interp1d(x['shift'].values, x['energy'].values, kind='cubic'),\n",
    "            [0],\n",
    "            bounds=[(-.4, .7)],\n",
    "        ))\n",
    "    )[['fun', 'x']]\n",
    "    .applymap(lambda x: x[0])\n",
    "    .rename(columns={'fun': 'energy_uc', 'x': 'c_shift'})\n",
    "    .join(layered_meta_df)\n",
    "    .assign(energy=binding_per_area)\n",
    ")"
   ]
  },
  {
   "cell_type": "code",
   "execution_count": null,
   "metadata": {},
   "outputs": [],
   "source": [
    "(\n",
    "    layered_df\n",
    "    .loc(0)[:, :, 'pbe', 6]\n",
    "    .assign(vv_shave=lambda x: (x['vv_pols_nm']-x['vv_pols'])/x['vv_pols'])\n",
    "    .groupby('label shift'.split())\n",
    "    .apply(lambda x: pd.DataFrame({\n",
    "        'vv_shave': x['vv_shave'].iloc[0][:, 0],\n",
    "        'vv_pols': x['vv_pols'].iloc[0][:, 0],\n",
    "        'vv_pols_nm': x['vv_pols_nm'].iloc[0][:, 0],\n",
    "        'elem': x['elems'].iloc[0]\n",
    "    }))\n",
    "    .groupby('shift').apply(lambda x: x['vv_shave'].describe())\n",
    "    .loc(0)[[-.4, 0, 40]]\n",
    ")"
   ]
  },
  {
   "cell_type": "code",
   "execution_count": null,
   "metadata": {},
   "outputs": [],
   "source": [
    "layered_df.iloc(0)[3].vv_pols.shape"
   ]
  },
  {
   "cell_type": "code",
   "execution_count": null,
   "metadata": {},
   "outputs": [],
   "source": [
    "(\n",
    "    layered_df\n",
    "    .loc(0)[:, [0, 40], 'pbe', 6]['vv_pols vv_pols_nm'.split()]\n",
    "    .unstack('shift')\n",
    "    .apply(lambda x: ((x[:, 0]-x[:, 40])/x[:, 40]).apply(lambda x: x[:, 0].mean()), axis=1)\n",
    ")"
   ]
  },
  {
   "cell_type": "code",
   "execution_count": null,
   "metadata": {},
   "outputs": [],
   "source": [
    "with MBDCalc() as mbd_full:\n",
    "    mbd_enes_ref = (\n",
    "        layered_df\n",
    "        .loc(0)[:, 0.1, 'pbe', 6]\n",
    "        .progress_apply(\n",
    "            mbd_from_row,\n",
    "            axis=1,\n",
    "            beta=0.81,\n",
    "            k_grid=(40, 40, 6),\n",
    "            mbd=mbd_full,\n",
    "        )\n",
    "    )"
   ]
  },
  {
   "cell_type": "code",
   "execution_count": null,
   "metadata": {},
   "outputs": [],
   "source": [
    "# Check we run the same MBD as in FHI-aims\n",
    "(\n",
    "    mbd_enes_ref.to_frame('ene_mbd')\n",
    "    .join(layered_df[['energy_vdw']])\n",
    "    .pipe(lambda x: (x['ene_mbd']-x['energy_vdw'])/x['energy_vdw'])\n",
    "    .describe()\n",
    ")"
   ]
  },
  {
   "cell_type": "code",
   "execution_count": null,
   "metadata": {},
   "outputs": [],
   "source": [
    "mbd_enes = pd.concat([\n",
    "    layered_df\n",
    "    .loc(0)[:, :, 'pbe', 6]\n",
    "    .progress_apply(\n",
    "        mbd_from_row,\n",
    "        beta=beta,\n",
    "        k_grid=(10, 10, 2),\n",
    "        axis=1,\n",
    "        mbd=mbd,\n",
    "    )\n",
    "    .to_frame('ene_mbd')\n",
    "    .assign(beta=beta)\n",
    "    .set_index('beta', append=True)\n",
    "    for beta in [0.79, 0.81, 0.83]\n",
    "])['ene_mbd'].sort_index()"
   ]
  },
  {
   "cell_type": "code",
   "execution_count": null,
   "metadata": {},
   "outputs": [],
   "source": [
    "# Relative error in total binding energy per area\n",
    "# by doing smaller MBD k-grid\n",
    "(\n",
    "    mbd_enes.to_frame('ene_mbd')\n",
    "    .xs(0.81, level='beta')\n",
    "    .join(layered_df[['energy_vdw']])\n",
    "    .to_xarray()\n",
    "    .pipe(lambda x: x-x.sel(shift=40))\n",
    "    .sel(kz=6, xc='pbe', shift=0)\n",
    "    .pipe(lambda x: (x['ene_mbd']-x['energy_vdw']))\n",
    "    .to_dataframe('energy_uc')\n",
    "    .join(layered_meta_df)\n",
    "    .assign(energy=binding_per_area)\n",
    "    .pipe(lambda x: x['energy']/x['energy_ref'])\n",
    "    .describe()\n",
    ")"
   ]
  },
  {
   "cell_type": "code",
   "execution_count": null,
   "metadata": {},
   "outputs": [],
   "source": [
    "(\n",
    "    layered_df[['energy', 'energy_vdw']]\n",
    "    .fillna(0)\n",
    "    .pipe(lambda x: x['energy']-x['energy_vdw'])\n",
    "    .to_frame('ene_scf')\n",
    "    .join(\n",
    "        mbd_enes\n",
    "        .reset_index('xc kz'.split(), drop=True)\n",
    "        .reset_index('beta'),\n",
    "        on='label shift'.split()\n",
    "    )\n",
    "    .rename_axis('label shift xc kz'.split(), axis=0)\n",
    "    .set_index('beta', append=True)\n",
    "    .pipe(lambda x: x['ene_scf']+x['ene_mbd'])\n",
    "    .to_xarray()\n",
    "    .pipe(lambda x: x-x.sel(shift=40))\n",
    "    .sel(shift=0)\n",
    "    .to_dataframe('energy_uc')\n",
    "    .join(layered_meta_df)\n",
    "    .assign(energy=binding_per_area)\n",
    "    .assign(rel_error=lambda x: (-x['energy']+x['energy_ref'])/x['energy_ref'])\n",
    "    .assign(abs_rel_error=lambda x: x['rel_error'].abs())\n",
    "    .loc(0)[:, 'pbe', 6, 0.81]\n",
    "#     .groupby('xc kz beta'.split())\n",
    "    .loc(0)[['BN', 'PbO', 'graphite']]\n",
    "    .describe() \n",
    ")"
   ]
  },
  {
   "cell_type": "code",
   "execution_count": null,
   "metadata": {},
   "outputs": [],
   "source": [
    "def mbd_from_row_2(row, **kwargs):\n",
    "    vols = row['volumes']/row['volumes_free'][row['species']-1]\n",
    "    species = row['elems']\n",
    "    alpha_0, C6, R_vdw = pymbd.from_volumes(species, vols)\n",
    "    return mbd_energy(\n",
    "        row['coords'],\n",
    "        alpha_0,\n",
    "        C6,\n",
    "        R_vdw,\n",
    "        0.83,\n",
    "        lattice=row['lattice_vector'],\n",
    "        k_grid=(10, 10, 2),\n",
    "        scs=True,\n",
    "        rpa=True,\n",
    "        return_nan=True,\n",
    "        mbd=mbd,\n",
    "        **kwargs,\n",
    "    )\n",
    "\n",
    "\n",
    "mbd_rsscs_enes = (\n",
    "    layered_df\n",
    "    .loc(0)[:, [0, 40], 'pbe', 6]\n",
    "    .progress_apply(mbd_from_row_2, axis=1)\n",
    ")"
   ]
  },
  {
   "cell_type": "code",
   "execution_count": null,
   "metadata": {},
   "outputs": [],
   "source": [
    "(\n",
    "    layered_df[['energy', 'energy_vdw']]\n",
    "    .pipe(lambda x: x['energy']-x['energy_vdw'])\n",
    "    .to_frame('ene_scf')\n",
    "    .join(\n",
    "        mbd_rsscs_enes\n",
    "        .reset_index('xc kz'.split(), drop=True)\n",
    "        .to_frame('ene_mbd'),\n",
    "        on='label shift'.split()\n",
    "    )\n",
    "    .pipe(lambda x: x['ene_scf']+x['ene_mbd'])\n",
    "    .to_xarray()\n",
    "    .pipe(lambda x: x-x.sel(shift=40))\n",
    "    .sel(shift=0)\n",
    "    .to_dataframe('energy_uc')\n",
    "    .join(layered_meta_df)\n",
    "    .assign(energy=binding_per_area)\n",
    "    .assign(rel_error=lambda x: (-x['energy']+x['energy_ref'])/x['energy_ref'])\n",
    "    .assign(abs_rel_error=lambda x: x['rel_error'].abs())\n",
    "    .loc(0)[:, 'pbe', 6]\n",
    "    .loc(0)[['BN', 'PbO', 'graphite']]\n",
    "    .describe()\n",
    ")\n"
   ]
  },
  {
   "cell_type": "code",
   "execution_count": null,
   "metadata": {},
   "outputs": [],
   "source": [
    "(\n",
    "    layered_df[['energy', 'energy_vdw']]\n",
    "    .fillna(0)\n",
    "    .pipe(lambda x: x['energy']-x['energy_vdw'])\n",
    "    .to_frame('ene_scf')\n",
    "    .join(\n",
    "        mbd_enes\n",
    "        .reset_index('xc kz'.split(), drop=True)\n",
    "        .reset_index('beta'),\n",
    "        on='label shift'.split()\n",
    "    )\n",
    "    .rename_axis('label shift xc kz'.split(), axis=0)\n",
    "    .set_index('beta', append=True)['ene_scf']\n",
    "    .to_xarray()\n",
    "    .pipe(lambda x: x-x.sel(shift=40))\n",
    "    .sel(shift=0)\n",
    "    .to_dataframe('energy_uc')\n",
    "    .join(layered_meta_df)\n",
    "    .assign(energy=binding_per_area)\n",
    "    .assign(rel_error=lambda x: (-x['energy']+x['energy_ref'])/x['energy_ref'])\n",
    "    .assign(abs_rel_error=lambda x: x['rel_error'].abs())\n",
    "    .loc(0)[:, 'pbe', 6, 0.81]\n",
    "#     .groupby('xc kz beta'.split())\n",
    "    .describe() \n",
    ")\n"
   ]
  },
  {
   "cell_type": "code",
   "execution_count": null,
   "metadata": {},
   "outputs": [],
   "source": [
    "(\n",
    "    pd.read_csv(resource_stream('mbdvv', 'data/bjorkman-prb-12.csv'), header=None)\n",
    "    .set_index(0)\n",
    "    .assign(rel_error=lambda x: (-x[4]+x[1])/x[1])\n",
    "    .assign(abs_rel_error=lambda x: x['rel_error'].abs())\n",
    "    [['rel_error', 'abs_rel_error']]\n",
    "    .loc(0)[['BN', 'PbO', 'Graphite']]\n",
    "    .describe()\n",
    ")"
   ]
  },
  {
   "cell_type": "code",
   "execution_count": null,
   "metadata": {},
   "outputs": [],
   "source": [
    "pts_df = (\n",
    "    pd.concat(\n",
    "        dict(\n",
    "            grids_df\n",
    "            .gridfile\n",
    "            .apply(lambda x: pd.read_hdf(x))\n",
    "        ),\n",
    "        names='label shift i_point'.split()\n",
    "    )\n",
    ") "
   ]
  },
  {
   "cell_type": "code",
   "execution_count": null,
   "metadata": {},
   "outputs": [],
   "source": [
    "_tmp = (\n",
    "    pts_df['i_atom part_weight rho rho_grad_norm kin_dens'.split()]\n",
    "    .set_index('i_atom', append=True) \\\n",
    "    .assign(kin_dens=lambda x: x.kin_dens/2)\n",
    "    .loc[lambda x: x.rho > 0]\n",
    "    .assign(\n",
    "        alpha=lambda x: alpha_kin(x.rho, x.rho_grad_norm, x.kin_dens),\n",
    "        ion_pot=lambda x: ion_pot(x.rho, x.rho_grad_norm),\n",
    "        vvpol=lambda x: vv_pol(x.rho, x.rho_grad_norm),\n",
    "    )\n",
    ")"
   ]
  },
  {
   "cell_type": "code",
   "execution_count": null,
   "metadata": {},
   "outputs": [],
   "source": [
    "labels =  _tmp.index.levels[0]\n",
    "fig, axes = plt.subplots(len(labels), 2, figsize=(6, 80))\n",
    "for ax_row, label in zip(axes, labels):\n",
    "    for ax, shift in zip(ax_row, [0, 40]):\n",
    "        try:\n",
    "            df = _tmp.loc(0)[label, shift]\n",
    "        except KeyError:\n",
    "            continue\n",
    "        plot_ion_alpha(ax, df)[-1]\n",
    "        ax.set_title((label, shift))"
   ]
  }
 ],
 "metadata": {
  "kernelspec": {
   "display_name": "mbd-vv",
   "language": "python",
   "name": "mbd-vv"
  },
  "language_info": {
   "codemirror_mode": {
    "name": "ipython",
    "version": 3
   },
   "file_extension": ".py",
   "mimetype": "text/x-python",
   "name": "python",
   "nbconvert_exporter": "python",
   "pygments_lexer": "ipython3",
   "version": "3.6.6"
  },
  "toc": {
   "base_numbering": 1,
   "nav_menu": {},
   "number_sections": true,
   "sideBar": true,
   "skip_h1_title": false,
   "title_cell": "Table of Contents",
   "title_sidebar": "Contents",
   "toc_cell": false,
   "toc_position": {},
   "toc_section_display": true,
   "toc_window_display": false
  },
  "varInspector": {
   "cols": {
    "lenName": 16,
    "lenType": 16,
    "lenVar": 40
   },
   "kernels_config": {
    "python": {
     "delete_cmd_postfix": "",
     "delete_cmd_prefix": "del ",
     "library": "var_list.py",
     "varRefreshCmd": "print(var_dic_list())"
    },
    "r": {
     "delete_cmd_postfix": ") ",
     "delete_cmd_prefix": "rm(",
     "library": "var_list.r",
     "varRefreshCmd": "cat(var_dic_list()) "
    }
   },
   "position": {
    "height": "328.85px",
    "left": "238px",
    "right": "69px",
    "top": "1030px",
    "width": "546px"
   },
   "types_to_exclude": [
    "module",
    "function",
    "builtin_function_or_method",
    "instance",
    "_Feature"
   ],
   "window_display": false
  }
 },
 "nbformat": 4,
 "nbformat_minor": 2
}
